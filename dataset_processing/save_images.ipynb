{
 "cells": [
  {
   "cell_type": "code",
   "execution_count": 47,
   "metadata": {
    "collapsed": true,
    "ExecuteTime": {
     "start_time": "2023-05-14T05:28:45.133635Z",
     "end_time": "2023-05-14T05:28:45.143271Z"
    }
   },
   "outputs": [],
   "source": [
    "import os\n",
    "import time\n",
    "\n",
    "import cv2\n",
    "from tqdm.notebook import tqdm\n",
    "\n",
    "from config import SERVER_IP, SERVER_PORT\n",
    "from streaming.client import RemoteCamera"
   ]
  },
  {
   "cell_type": "code",
   "execution_count": 48,
   "outputs": [],
   "source": [
    "pos_path = '../dataset/pos'\n",
    "neg_path = '../dataset/neg'"
   ],
   "metadata": {
    "collapsed": false,
    "ExecuteTime": {
     "start_time": "2023-05-14T05:28:45.137327Z",
     "end_time": "2023-05-14T05:28:45.143392Z"
    }
   }
  },
  {
   "cell_type": "code",
   "execution_count": 49,
   "outputs": [],
   "source": [
    "def get_image_name():\n",
    "    pos_files = os.listdir(pos_path)\n",
    "    neg_files = os.listdir(neg_path)\n",
    "\n",
    "    pos = [int(file.split('.')[0]) for file in pos_files]\n",
    "    neg = [int(file.split('.')[0]) for file in neg_files]\n",
    "\n",
    "    if len(pos + neg) > 0:\n",
    "        return f\"{max(pos + neg) + 1:04d}.jpg\"\n",
    "\n",
    "    return f\"{1:04d}.jpg\""
   ],
   "metadata": {
    "collapsed": false,
    "ExecuteTime": {
     "start_time": "2023-05-14T05:28:45.141717Z",
     "end_time": "2023-05-14T05:28:45.143517Z"
    }
   }
  },
  {
   "cell_type": "code",
   "execution_count": 51,
   "outputs": [],
   "source": [
    "def save_image(positive=True, n_images=1):\n",
    "    rc = RemoteCamera(SERVER_IP, SERVER_PORT)\n",
    "    rc.connect()\n",
    "\n",
    "    path = pos_path if positive else neg_path\n",
    "\n",
    "    for _ in tqdm(range(n_images)):\n",
    "        img = rc.get_frame()\n",
    "        file_name = get_image_name()\n",
    "        cv2.imwrite(os.path.join(path, file_name), img)\n",
    "        time.sleep(0.5)\n",
    "\n",
    "    rc.disconnect()"
   ],
   "metadata": {
    "collapsed": false,
    "ExecuteTime": {
     "start_time": "2023-05-14T05:28:45.149354Z",
     "end_time": "2023-05-14T05:28:45.154288Z"
    }
   }
  },
  {
   "cell_type": "code",
   "execution_count": null,
   "outputs": [],
   "source": [
    "n_images = 500\n",
    "positive = False"
   ],
   "metadata": {
    "collapsed": false
   }
  },
  {
   "cell_type": "code",
   "execution_count": null,
   "outputs": [],
   "source": [
    "save_image(positive=positive, n_images=n_images)"
   ],
   "metadata": {
    "collapsed": false
   }
  }
 ],
 "metadata": {
  "kernelspec": {
   "display_name": "Python 3",
   "language": "python",
   "name": "python3"
  },
  "language_info": {
   "codemirror_mode": {
    "name": "ipython",
    "version": 2
   },
   "file_extension": ".py",
   "mimetype": "text/x-python",
   "name": "python",
   "nbconvert_exporter": "python",
   "pygments_lexer": "ipython2",
   "version": "2.7.6"
  }
 },
 "nbformat": 4,
 "nbformat_minor": 0
}
