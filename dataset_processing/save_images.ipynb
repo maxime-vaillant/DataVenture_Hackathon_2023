{
 "cells": [
  {
   "cell_type": "code",
   "execution_count": 34,
   "metadata": {
    "collapsed": true,
    "ExecuteTime": {
     "start_time": "2023-05-13T18:33:46.967242Z",
     "end_time": "2023-05-13T18:33:47.013757Z"
    }
   },
   "outputs": [],
   "source": [
    "import os\n",
    "import shutil\n",
    "import time\n",
    "\n",
    "import cv2\n",
    "from tqdm.notebook import tqdm\n",
    "\n",
    "from streaming.client import RemoteCamera"
   ]
  },
  {
   "cell_type": "code",
   "execution_count": 35,
   "outputs": [],
   "source": [
    "pos_path = '../dataset/pos'\n",
    "neg_path = '../dataset/neg'\n",
    "merge_path = '../dataset/images/train'"
   ],
   "metadata": {
    "collapsed": false,
    "ExecuteTime": {
     "start_time": "2023-05-13T18:33:47.014583Z",
     "end_time": "2023-05-13T18:33:47.015885Z"
    }
   }
  },
  {
   "cell_type": "code",
   "execution_count": 36,
   "outputs": [],
   "source": [
    "def get_image_name():\n",
    "    pos_files = os.listdir(pos_path)\n",
    "    neg_files = os.listdir(neg_path)\n",
    "\n",
    "    pos = [int(file.split('.')[0]) for file in pos_files]\n",
    "    neg = [int(file.split('.')[0]) for file in neg_files]\n",
    "\n",
    "    if len(pos + neg) > 0:\n",
    "        return f\"{max(pos + neg) + 1:04d}.jpg\"\n",
    "\n",
    "    return f\"{1:04d}.jpg\""
   ],
   "metadata": {
    "collapsed": false,
    "ExecuteTime": {
     "start_time": "2023-05-13T18:33:47.017472Z",
     "end_time": "2023-05-13T18:33:47.018984Z"
    }
   }
  },
  {
   "cell_type": "code",
   "execution_count": 37,
   "outputs": [
    {
     "data": {
      "text/plain": "'0004.jpg'"
     },
     "execution_count": 37,
     "metadata": {},
     "output_type": "execute_result"
    }
   ],
   "source": [
    "get_image_name()"
   ],
   "metadata": {
    "collapsed": false,
    "ExecuteTime": {
     "start_time": "2023-05-13T18:33:47.019517Z",
     "end_time": "2023-05-13T18:33:47.021819Z"
    }
   }
  },
  {
   "cell_type": "code",
   "execution_count": 38,
   "outputs": [],
   "source": [
    "def save_image(positive=True):\n",
    "    rc = RemoteCamera(\"192.168.10.125\", 9999)\n",
    "    rc.connect()\n",
    "\n",
    "    img = rc.get_frame()\n",
    "\n",
    "    path = pos_path if positive else neg_path\n",
    "\n",
    "    file_name = get_image_name()\n",
    "\n",
    "    cv2.imwrite(os.path.join(path, file_name), img)\n",
    "\n",
    "    rc.disconnect()"
   ],
   "metadata": {
    "collapsed": false,
    "ExecuteTime": {
     "start_time": "2023-05-13T18:33:47.023503Z",
     "end_time": "2023-05-13T18:33:47.024992Z"
    }
   }
  },
  {
   "cell_type": "code",
   "execution_count": 39,
   "outputs": [],
   "source": [
    "def merge_folders():\n",
    "    if not os.path.exists(merge_path):\n",
    "        os.makedirs(merge_path)\n",
    "\n",
    "    for file_name in os.listdir(pos_path):\n",
    "        src_file = os.path.join(pos_path, file_name)\n",
    "        dst_file = os.path.join(merge_path, file_name)\n",
    "        shutil.copy(src_file, dst_file)\n",
    "\n",
    "    for file_name in os.listdir(neg_path):\n",
    "        src_file = os.path.join(neg_path, file_name)\n",
    "        dst_file = os.path.join(merge_path, file_name)\n",
    "        shutil.copy(src_file, dst_file)"
   ],
   "metadata": {
    "collapsed": false,
    "ExecuteTime": {
     "start_time": "2023-05-13T18:33:47.026430Z",
     "end_time": "2023-05-13T18:33:47.027845Z"
    }
   }
  },
  {
   "cell_type": "code",
   "execution_count": 43,
   "outputs": [
    {
     "data": {
      "text/plain": "  0%|          | 0/250 [00:00<?, ?it/s]",
      "application/vnd.jupyter.widget-view+json": {
       "version_major": 2,
       "version_minor": 0,
       "model_id": "01e14971bd2b45cb94e354ba3d084748"
      }
     },
     "metadata": {},
     "output_type": "display_data"
    }
   ],
   "source": [
    "# for _ in tqdm(range(250)):\n",
    "#     time.sleep(0.5)\n",
    "#     save_image(positive=False)"
   ],
   "metadata": {
    "collapsed": false,
    "ExecuteTime": {
     "start_time": "2023-05-13T18:37:31.617967Z",
     "end_time": "2023-05-13T18:40:02.253492Z"
    }
   }
  },
  {
   "cell_type": "code",
   "execution_count": 44,
   "outputs": [
    {
     "data": {
      "text/plain": "  0%|          | 0/500 [00:00<?, ?it/s]",
      "application/vnd.jupyter.widget-view+json": {
       "version_major": 2,
       "version_minor": 0,
       "model_id": "cafa9274de89498da94d2df46a10502b"
      }
     },
     "metadata": {},
     "output_type": "display_data"
    }
   ],
   "source": [
    "for _ in tqdm(range(500)):\n",
    "    time.sleep(0.5)\n",
    "    save_image()"
   ],
   "metadata": {
    "collapsed": false,
    "ExecuteTime": {
     "start_time": "2023-05-13T18:42:37.031197Z",
     "end_time": "2023-05-13T18:48:09.078761Z"
    }
   }
  },
  {
   "cell_type": "code",
   "execution_count": 45,
   "outputs": [],
   "source": [
    "merge_folders()"
   ],
   "metadata": {
    "collapsed": false,
    "ExecuteTime": {
     "start_time": "2023-05-13T18:49:08.619101Z",
     "end_time": "2023-05-13T18:49:08.760529Z"
    }
   }
  },
  {
   "cell_type": "code",
   "execution_count": null,
   "outputs": [],
   "source": [],
   "metadata": {
    "collapsed": false
   }
  }
 ],
 "metadata": {
  "kernelspec": {
   "display_name": "Python 3",
   "language": "python",
   "name": "python3"
  },
  "language_info": {
   "codemirror_mode": {
    "name": "ipython",
    "version": 2
   },
   "file_extension": ".py",
   "mimetype": "text/x-python",
   "name": "python",
   "nbconvert_exporter": "python",
   "pygments_lexer": "ipython2",
   "version": "2.7.6"
  }
 },
 "nbformat": 4,
 "nbformat_minor": 0
}
