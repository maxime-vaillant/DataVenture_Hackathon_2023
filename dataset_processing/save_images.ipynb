{
 "cells": [
  {
   "cell_type": "code",
   "execution_count": 7,
   "metadata": {
    "collapsed": true,
    "ExecuteTime": {
     "start_time": "2023-05-13T18:08:33.817471Z",
     "end_time": "2023-05-13T18:08:33.821116Z"
    }
   },
   "outputs": [],
   "source": [
    "import os\n",
    "\n",
    "import cv2\n",
    "\n",
    "from streaming.client import RemoteCamera"
   ]
  },
  {
   "cell_type": "code",
   "execution_count": 8,
   "outputs": [],
   "source": [
    "pos_path = '../dataset/pos'\n",
    "neg_path = '../dataset/neg'"
   ],
   "metadata": {
    "collapsed": false,
    "ExecuteTime": {
     "start_time": "2023-05-13T18:08:33.822249Z",
     "end_time": "2023-05-13T18:08:33.824573Z"
    }
   }
  },
  {
   "cell_type": "code",
   "execution_count": 9,
   "outputs": [],
   "source": [
    "def get_image_name():\n",
    "    pos_files = os.listdir(pos_path)\n",
    "    neg_files = os.listdir(neg_path)\n",
    "\n",
    "    pos = [int(file.split('.')[0]) for file in pos_files]\n",
    "    neg = [int(file.split('.')[0]) for file in neg_files]\n",
    "\n",
    "    if len(pos + neg) > 0:\n",
    "        return f\"{max(pos + neg) + 1:04d}.jpg\"\n",
    "\n",
    "    return f\"{1:04d}.jpg\""
   ],
   "metadata": {
    "collapsed": false,
    "ExecuteTime": {
     "start_time": "2023-05-13T18:08:33.826777Z",
     "end_time": "2023-05-13T18:08:33.829167Z"
    }
   }
  },
  {
   "cell_type": "code",
   "execution_count": 10,
   "outputs": [
    {
     "data": {
      "text/plain": "'0001.jpg'"
     },
     "execution_count": 10,
     "metadata": {},
     "output_type": "execute_result"
    }
   ],
   "source": [
    "get_image_name()"
   ],
   "metadata": {
    "collapsed": false,
    "ExecuteTime": {
     "start_time": "2023-05-13T18:08:33.829929Z",
     "end_time": "2023-05-13T18:08:33.834624Z"
    }
   }
  },
  {
   "cell_type": "code",
   "execution_count": 11,
   "outputs": [],
   "source": [
    "def save_image(positive=True):\n",
    "    rc = RemoteCamera(\"192.168.10.125\", 9999)\n",
    "    rc.connect()\n",
    "\n",
    "    img = rc.get_frame()\n",
    "\n",
    "    path = pos_path if positive else neg_path\n",
    "\n",
    "    file_name = get_image_name()\n",
    "\n",
    "    cv2.imwrite(os.path.join(path, file_name), img)\n",
    "\n",
    "    rc.disconnect()"
   ],
   "metadata": {
    "collapsed": false,
    "ExecuteTime": {
     "start_time": "2023-05-13T18:08:33.835570Z",
     "end_time": "2023-05-13T18:08:33.837619Z"
    }
   }
  },
  {
   "cell_type": "code",
   "execution_count": 13,
   "outputs": [],
   "source": [
    "save_image(positive=False)"
   ],
   "metadata": {
    "collapsed": false,
    "ExecuteTime": {
     "start_time": "2023-05-13T18:10:12.994663Z",
     "end_time": "2023-05-13T18:10:13.411149Z"
    }
   }
  },
  {
   "cell_type": "code",
   "execution_count": 12,
   "outputs": [],
   "source": [
    "save_image()"
   ],
   "metadata": {
    "collapsed": false,
    "ExecuteTime": {
     "start_time": "2023-05-13T18:08:33.838190Z",
     "end_time": "2023-05-13T18:08:33.963060Z"
    }
   }
  }
 ],
 "metadata": {
  "kernelspec": {
   "display_name": "Python 3",
   "language": "python",
   "name": "python3"
  },
  "language_info": {
   "codemirror_mode": {
    "name": "ipython",
    "version": 2
   },
   "file_extension": ".py",
   "mimetype": "text/x-python",
   "name": "python",
   "nbconvert_exporter": "python",
   "pygments_lexer": "ipython2",
   "version": "2.7.6"
  }
 },
 "nbformat": 4,
 "nbformat_minor": 0
}
