{
 "cells": [
  {
   "cell_type": "code",
   "execution_count": 1,
   "metadata": {
    "collapsed": true
   },
   "outputs": [],
   "source": [
    "MODEL_ARCH = 'yolo_nas_s'\n",
    "BATCH_SIZE = 8\n",
    "MAX_EPOCHS = 25\n",
    "CHECKPOINT_DIR = f'checkpoints'\n",
    "EXPERIMENT_NAME = \"yolo_nas_binary\""
   ]
  },
  {
   "cell_type": "code",
   "execution_count": 2,
   "outputs": [
    {
     "name": "stderr",
     "output_type": "stream",
     "text": [
      "[2023-05-13 21:48:29] INFO - crash_tips_setup.py - Crash tips is enabled. You can set your environment variable to CRASH_HANDLER=FALSE to disable it\n"
     ]
    },
    {
     "name": "stdout",
     "output_type": "stream",
     "text": [
      "The console stream is logged into /Users/pierreadorni/sg_logs/console.log\n"
     ]
    },
    {
     "name": "stderr",
     "output_type": "stream",
     "text": [
      "[2023-05-13 21:48:29] WARNING - redirects.py - NOTE: Redirects are currently not supported in Windows or MacOs.\n",
      "[2023-05-13 21:48:31] WARNING - __init__.py - Failed to import pytorch_quantization\n",
      "[2023-05-13 21:48:31] WARNING - calibrator.py - Failed to import pytorch_quantization\n",
      "[2023-05-13 21:48:31] WARNING - export.py - Failed to import pytorch_quantization\n",
      "[2023-05-13 21:48:31] WARNING - selective_quantization_utils.py - Failed to import pytorch_quantization\n",
      "[2023-05-13 21:48:31] WARNING - env_sanity_check.py - \u001B[31mFailed to verify operating system: Deci officially supports only Linux kernels. Some features may not work as expected.\u001B[0m\n"
     ]
    }
   ],
   "source": [
    "from super_gradients.training import Trainer\n",
    "\n",
    "trainer = Trainer(experiment_name=EXPERIMENT_NAME, ckpt_root_dir=CHECKPOINT_DIR)"
   ],
   "metadata": {
    "collapsed": false,
    "ExecuteTime": {
     "end_time": "2023-05-13T19:48:31.173352Z",
     "start_time": "2023-05-13T19:48:28.237950Z"
    }
   }
  },
  {
   "cell_type": "code",
   "execution_count": 3,
   "outputs": [],
   "source": [
    "dataset_params = {\n",
    "    'data_dir': \"../dataset/final/\",\n",
    "    'train_images_dir':'train/images',\n",
    "    'train_labels_dir':'train/labels',\n",
    "    'val_images_dir':'valid/images',\n",
    "    'val_labels_dir':'valid/labels',\n",
    "    'test_images_dir':'test/images',\n",
    "    'test_labels_dir':'test/labels',\n",
    "    'classes': ['Good', 'Not Good']\n",
    "}"
   ],
   "metadata": {
    "collapsed": false,
    "ExecuteTime": {
     "end_time": "2023-05-13T19:48:31.178021Z",
     "start_time": "2023-05-13T19:48:31.173262Z"
    }
   }
  },
  {
   "cell_type": "code",
   "execution_count": 4,
   "outputs": [
    {
     "name": "stderr",
     "output_type": "stream",
     "text": [
      "Caching annotations: 100%|██████████| 1218/1218 [00:00<00:00, 3900.71it/s]\n",
      "Caching annotations: 100%|██████████| 197/197 [00:00<00:00, 4122.88it/s]\n",
      "Caching annotations:   0%|          | 0/111 [00:00<?, ?it/s]"
     ]
    }
   ],
   "source": [
    "from super_gradients.training.dataloaders.dataloaders import (\n",
    "    coco_detection_yolo_format_train, coco_detection_yolo_format_val)\n",
    "\n",
    "train_data = coco_detection_yolo_format_train(\n",
    "    dataset_params={\n",
    "        'data_dir': dataset_params['data_dir'],\n",
    "        'images_dir': dataset_params['train_images_dir'],\n",
    "        'labels_dir': dataset_params['train_labels_dir'],\n",
    "        'classes': dataset_params['classes']\n",
    "    },\n",
    "    dataloader_params={\n",
    "        'batch_size': BATCH_SIZE,\n",
    "        'num_workers': 2\n",
    "    }\n",
    ")\n",
    "\n",
    "val_data = coco_detection_yolo_format_val(\n",
    "    dataset_params={\n",
    "        'data_dir': dataset_params['data_dir'],\n",
    "        'images_dir': dataset_params['val_images_dir'],\n",
    "        'labels_dir': dataset_params['val_labels_dir'],\n",
    "        'classes': dataset_params['classes']\n",
    "    },\n",
    "    dataloader_params={\n",
    "        'batch_size': BATCH_SIZE,\n",
    "        'num_workers': 2\n",
    "    }\n",
    ")\n",
    "\n",
    "test_data = coco_detection_yolo_format_val(\n",
    "    dataset_params={\n",
    "        'data_dir': dataset_params['data_dir'],\n",
    "        'images_dir': dataset_params['test_images_dir'],\n",
    "        'labels_dir': dataset_params['test_labels_dir'],\n",
    "        'classes': dataset_params['classes']\n",
    "    },\n",
    "    dataloader_params={\n",
    "        'batch_size': BATCH_SIZE,\n",
    "        'num_workers': 2\n",
    "    }\n",
    ")"
   ],
   "metadata": {
    "collapsed": false,
    "ExecuteTime": {
     "end_time": "2023-05-13T19:48:31.975301Z",
     "start_time": "2023-05-13T19:48:31.355776Z"
    }
   }
  },
  {
   "cell_type": "code",
   "execution_count": 5,
   "outputs": [
    {
     "data": {
      "text/plain": "[DetectionMosaic('additional_samples_count': 3, 'non_empty_targets': False, 'prob': 1.0, 'input_dim': [640, 640], 'enable_mosaic': True, 'border_value': 114),\n DetectionRandomAffine('additional_samples_count': 0, 'non_empty_targets': False, 'degrees': 10.0, 'translate': 0.1, 'scale': [0.1, 2], 'shear': 2.0, 'target_size': [640, 640], 'enable': True, 'filter_box_candidates': True, 'wh_thr': 2, 'ar_thr': 20, 'area_thr': 0.1, 'border_value': 114),\n DetectionMixup('additional_samples_count': 1, 'non_empty_targets': True, 'input_dim': [640, 640], 'mixup_scale': [0.5, 1.5], 'prob': 1.0, 'enable_mixup': True, 'flip_prob': 0.5, 'border_value': 114),\n DetectionHSV('additional_samples_count': 0, 'non_empty_targets': False, 'prob': 1.0, 'hgain': 5, 'sgain': 30, 'vgain': 30, 'bgr_channels': (0, 1, 2), '_additional_channels_warned': False),\n DetectionHorizontalFlip('additional_samples_count': 0, 'non_empty_targets': False, 'prob': 0.5, 'max_targets': 120),\n DetectionPaddedRescale('swap': (2, 0, 1), 'input_dim': [640, 640], 'max_targets': 120, 'pad_value': 114),\n DetectionTargetsFormatTransform('additional_samples_count': 0, 'non_empty_targets': False, 'input_format': OrderedDict([('bboxes', name=bboxes length=4 format=<super_gradients.training.datasets.data_formats.bbox_formats.xyxy.XYXYCoordinateFormat object at 0x1634ac760>), ('labels', name=labels length=1)]), 'output_format': OrderedDict([('labels', name=labels length=1), ('bboxes', name=bboxes length=4 format=<super_gradients.training.datasets.data_formats.bbox_formats.cxcywh.CXCYWHCoordinateFormat object at 0x1635936a0>)]), 'max_targets': 120, 'min_bbox_edge_size': 1, 'input_dim': [640, 640], 'targets_format_converter': <super_gradients.training.datasets.data_formats.format_converter.ConcatenatedTensorFormatConverter object at 0x1770da040>)]"
     },
     "execution_count": 5,
     "metadata": {},
     "output_type": "execute_result"
    }
   ],
   "source": [
    "train_data.dataset.transforms"
   ],
   "metadata": {
    "collapsed": false,
    "ExecuteTime": {
     "end_time": "2023-05-13T19:48:33.083745Z",
     "start_time": "2023-05-13T19:48:33.079616Z"
    }
   }
  },
  {
   "cell_type": "code",
   "execution_count": 6,
   "outputs": [
    {
     "name": "stderr",
     "output_type": "stream",
     "text": [
      "[2023-05-13 21:48:34] INFO - checkpoint_utils.py - License Notification: YOLO-NAS pre-trained weights are subjected to the specific license terms and conditions detailed in \n",
      "https://github.com/Deci-AI/super-gradients/blob/master/LICENSE.YOLONAS.md\n",
      "By downloading the pre-trained weight files you agree to comply with these terms.\n"
     ]
    }
   ],
   "source": [
    "from super_gradients.training import models\n",
    "\n",
    "model = models.get(\n",
    "    MODEL_ARCH,\n",
    "    num_classes=len(dataset_params['classes']),\n",
    "    pretrained_weights=\"coco\"\n",
    ")"
   ],
   "metadata": {
    "collapsed": false,
    "ExecuteTime": {
     "end_time": "2023-05-13T19:48:34.151435Z",
     "start_time": "2023-05-13T19:48:33.947932Z"
    }
   }
  },
  {
   "cell_type": "code",
   "execution_count": 7,
   "outputs": [],
   "source": [
    "from super_gradients.training.losses import PPYoloELoss\n",
    "from super_gradients.training.metrics import DetectionMetrics_050\n",
    "from super_gradients.training.models.detection_models.pp_yolo_e import PPYoloEPostPredictionCallback\n",
    "\n",
    "train_params = {\n",
    "    'silent_mode': False,\n",
    "    \"average_best_models\":True,\n",
    "    \"warmup_mode\": \"linear_epoch_step\",\n",
    "    \"warmup_initial_lr\": 1e-6,\n",
    "    \"lr_warmup_epochs\": 3,\n",
    "    \"initial_lr\": 5e-4,\n",
    "    \"lr_mode\": \"cosine\",\n",
    "    \"cosine_final_lr_ratio\": 0.1,\n",
    "    \"optimizer\": \"Adam\",\n",
    "    \"optimizer_params\": {\"weight_decay\": 0.0001},\n",
    "    \"zero_weight_decay_on_bias_and_bn\": True,\n",
    "    \"ema\": True,\n",
    "    \"ema_params\": {\"decay\": 0.9, \"decay_type\": \"threshold\"},\n",
    "    \"max_epochs\": MAX_EPOCHS,\n",
    "    \"mixed_precision\": False,\n",
    "    \"loss\": PPYoloELoss(\n",
    "        use_static_assigner=False,\n",
    "        num_classes=len(dataset_params['classes']),\n",
    "        reg_max=16\n",
    "    ),\n",
    "    \"valid_metrics_list\": [\n",
    "        DetectionMetrics_050(\n",
    "            score_thres=0.1,\n",
    "            top_k_predictions=300,\n",
    "            num_cls=len(dataset_params['classes']),\n",
    "            normalize_targets=True,\n",
    "            post_prediction_callback=PPYoloEPostPredictionCallback(\n",
    "                score_threshold=0.01,\n",
    "                nms_top_k=1000,\n",
    "                max_predictions=300,\n",
    "                nms_threshold=0.7\n",
    "            )\n",
    "        )\n",
    "    ],\n",
    "    \"metric_to_watch\": 'mAP@0.50'\n",
    "}"
   ],
   "metadata": {
    "collapsed": false,
    "ExecuteTime": {
     "end_time": "2023-05-13T19:48:34.872231Z",
     "start_time": "2023-05-13T19:48:34.867759Z"
    }
   }
  },
  {
   "cell_type": "code",
   "execution_count": 8,
   "outputs": [
    {
     "name": "stderr",
     "output_type": "stream",
     "text": [
      "[2023-05-13 21:48:36] INFO - sg_trainer.py - Using EMA with params {'decay': 0.9, 'decay_type': 'threshold'}\n"
     ]
    },
    {
     "name": "stdout",
     "output_type": "stream",
     "text": [
      "The console stream is now moved to checkpoints/yolo_nas_binary/console_May13_21_48_36.txt\n"
     ]
    },
    {
     "name": "stderr",
     "output_type": "stream",
     "text": [
      "[2023-05-13 21:48:36] INFO - crash_tips_setup.py - Crash tips is enabled. You can set your environment variable to CRASH_HANDLER=FALSE to disable it\n",
      "[2023-05-13 21:48:37] WARNING - redirects.py - NOTE: Redirects are currently not supported in Windows or MacOs.\n",
      "[2023-05-13 21:48:38] WARNING - __init__.py - Failed to import pytorch_quantization\n",
      "[2023-05-13 21:48:38] WARNING - calibrator.py - Failed to import pytorch_quantization\n",
      "[2023-05-13 21:48:38] WARNING - export.py - Failed to import pytorch_quantization\n",
      "[2023-05-13 21:48:38] WARNING - selective_quantization_utils.py - Failed to import pytorch_quantization\n",
      "[2023-05-13 21:48:38] WARNING - env_sanity_check.py - \u001B[31mFailed to verify operating system: Deci officially supports only Linux kernels. Some features may not work as expected.\u001B[0m\n",
      "[W ParallelNative.cpp:229] Warning: Cannot set number of intraop threads after parallel work has started or after set_num_threads call when using native parallel backend (function set_num_threads)\n",
      "[2023-05-13 21:48:39] INFO - crash_tips_setup.py - Crash tips is enabled. You can set your environment variable to CRASH_HANDLER=FALSE to disable it\n",
      "[2023-05-13 21:48:39] WARNING - redirects.py - NOTE: Redirects are currently not supported in Windows or MacOs.\n",
      "[2023-05-13 21:48:40] WARNING - __init__.py - Failed to import pytorch_quantization\n",
      "[2023-05-13 21:48:40] WARNING - calibrator.py - Failed to import pytorch_quantization\n",
      "[2023-05-13 21:48:40] WARNING - export.py - Failed to import pytorch_quantization\n",
      "[2023-05-13 21:48:40] WARNING - selective_quantization_utils.py - Failed to import pytorch_quantization\n",
      "[2023-05-13 21:48:40] WARNING - env_sanity_check.py - \u001B[31mFailed to verify operating system: Deci officially supports only Linux kernels. Some features may not work as expected.\u001B[0m\n",
      "[W ParallelNative.cpp:229] Warning: Cannot set number of intraop threads after parallel work has started or after set_num_threads call when using native parallel backend (function set_num_threads)\n",
      "[2023-05-13 21:48:46] INFO - sg_trainer_utils.py - TRAINING PARAMETERS:\n",
      "    - Mode:                         Single GPU\n",
      "    - Number of GPUs:               0          (0 available on the machine)\n",
      "    - Dataset size:                 1203       (len(train_set))\n",
      "    - Batch size per GPU:           8          (batch_size)\n",
      "    - Batch Accumulate:             1          (batch_accumulate)\n",
      "    - Total batch size:             8          (num_gpus * batch_size)\n",
      "    - Effective Batch size:         8          (num_gpus * batch_size * batch_accumulate)\n",
      "    - Iterations per epoch:         150        (len(train_loader))\n",
      "    - Gradient updates per epoch:   150        (len(train_loader) / batch_accumulate)\n",
      "\n",
      "[2023-05-13 21:48:46] INFO - sg_trainer.py - Started training for 25 epochs (0/24)\n",
      "\n",
      "Train epoch 0:   0%|          | 0/150 [00:00<?, ?it/s][2023-05-13 21:48:46] INFO - crash_tips_setup.py - Crash tips is enabled. You can set your environment variable to CRASH_HANDLER=FALSE to disable it\n",
      "[2023-05-13 21:48:47] WARNING - redirects.py - NOTE: Redirects are currently not supported in Windows or MacOs.\n",
      "[2023-05-13 21:48:48] WARNING - __init__.py - Failed to import pytorch_quantization\n",
      "[2023-05-13 21:48:48] WARNING - calibrator.py - Failed to import pytorch_quantization\n",
      "[2023-05-13 21:48:48] WARNING - export.py - Failed to import pytorch_quantization\n",
      "[2023-05-13 21:48:48] WARNING - selective_quantization_utils.py - Failed to import pytorch_quantization\n",
      "[2023-05-13 21:48:48] WARNING - env_sanity_check.py - \u001B[31mFailed to verify operating system: Deci officially supports only Linux kernels. Some features may not work as expected.\u001B[0m\n",
      "[W ParallelNative.cpp:229] Warning: Cannot set number of intraop threads after parallel work has started or after set_num_threads call when using native parallel backend (function set_num_threads)\n",
      "[2023-05-13 21:48:49] INFO - crash_tips_setup.py - Crash tips is enabled. You can set your environment variable to CRASH_HANDLER=FALSE to disable it\n",
      "[2023-05-13 21:48:49] WARNING - redirects.py - NOTE: Redirects are currently not supported in Windows or MacOs.\n",
      "[2023-05-13 21:48:50] WARNING - __init__.py - Failed to import pytorch_quantization\n",
      "[2023-05-13 21:48:50] WARNING - calibrator.py - Failed to import pytorch_quantization\n",
      "[2023-05-13 21:48:50] WARNING - export.py - Failed to import pytorch_quantization\n",
      "[2023-05-13 21:48:50] WARNING - selective_quantization_utils.py - Failed to import pytorch_quantization\n",
      "[2023-05-13 21:48:50] WARNING - env_sanity_check.py - \u001B[31mFailed to verify operating system: Deci officially supports only Linux kernels. Some features may not work as expected.\u001B[0m\n",
      "[W ParallelNative.cpp:229] Warning: Cannot set number of intraop threads after parallel work has started or after set_num_threads call when using native parallel backend (function set_num_threads)\n",
      "Train epoch 0:   6%|▌         | 9/150 [00:43<10:10,  4.33s/it, PPYoloELoss/loss=3.61, PPYoloELoss/loss_cls=2.52, PPYoloELoss/loss_dfl=1.07, PPYoloELoss/loss_iou=0.221, gpu_mem=0]"
     ]
    }
   ],
   "source": [
    "trainer.train(\n",
    "    model=model,\n",
    "    training_params=train_params,\n",
    "    train_loader=train_data,\n",
    "    valid_loader=val_data\n",
    ")"
   ],
   "metadata": {
    "collapsed": false,
    "ExecuteTime": {
     "end_time": "2023-05-13T19:49:33.754585Z",
     "start_time": "2023-05-13T19:48:35.977169Z"
    }
   }
  },
  {
   "cell_type": "code",
   "execution_count": null,
   "outputs": [],
   "source": [],
   "metadata": {
    "collapsed": false
   }
  }
 ],
 "metadata": {
  "kernelspec": {
   "display_name": "Python 3",
   "language": "python",
   "name": "python3"
  },
  "language_info": {
   "codemirror_mode": {
    "name": "ipython",
    "version": 2
   },
   "file_extension": ".py",
   "mimetype": "text/x-python",
   "name": "python",
   "nbconvert_exporter": "python",
   "pygments_lexer": "ipython2",
   "version": "2.7.6"
  }
 },
 "nbformat": 4,
 "nbformat_minor": 0
}
